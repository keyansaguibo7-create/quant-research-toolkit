{
 "cells": [
  {
   "cell_type": "code",
   "id": "initial_id",
   "metadata": {
    "collapsed": true,
    "ExecuteTime": {
     "end_time": "2025-09-28T23:41:45.632365Z",
     "start_time": "2025-09-28T23:41:44.864979Z"
    }
   },
   "source": [
    "import numpy as np\n",
    "import pandas as pd\n",
    "import matplotlib.pyplot as plt\n",
    "from scipy.stats import norm\n",
    "import equity_analysis as ea\n",
    "import portfolio_analysis as pa"
   ],
   "outputs": [],
   "execution_count": 1
  },
  {
   "metadata": {
    "ExecuteTime": {
     "end_time": "2025-09-28T23:41:46.055181Z",
     "start_time": "2025-09-28T23:41:45.662834Z"
    }
   },
   "cell_type": "code",
   "source": [
    "data = ea.get_data([\"AAPL\", \"GOOG\", \"MSFT\"], start=\"2019-01-01\", end=\"2025-01-01\")\n",
    "returns = ea.compute_returns(data)\n",
    "weight = np.array([1/3,1/3,1/3])\n",
    "portfolio_returns = returns @ weight\n",
    "\n",
    "#V = current portfolio dollar value\n",
    "V = 100000\n",
    "#Params\n",
    "confidence = 0.95\n",
    "alpha = 1 - confidence #tail probability (0.05)\n",
    "#daily mean and standard deviation\n",
    "mu = portfolio_returns.mean()\n",
    "sigma = portfolio_returns.std(ddof=1)\n",
    "#z for the quantile\n",
    "z = norm.ppf(alpha)\n",
    "#return quantile\n",
    "q = mu + z * sigma\n",
    "#VaR as a positive dollar loss\n",
    "VaR_param_percent = -q\n",
    "VaR_param_dollars = VaR_param_percent * V\n",
    "\n",
    "print(f\"Parametric VaR ({int(confidence*100)}%): {VaR_param_percent:.4%} of portfolio = ${VaR_param_dollars:,.2f}\")\n",
    "\n"
   ],
   "id": "5114d3acf747443f",
   "outputs": [
    {
     "name": "stderr",
     "output_type": "stream",
     "text": [
      "/Users/keyansaguibo/PyCharmMiscProject/.venv/quant_projects/equity_analysis.py:6: FutureWarning: YF.download() has changed argument auto_adjust default to True\n",
      "  data = yf.download(tickers, start=start, end=end)[\"Close\"]\n",
      "[*********************100%***********************]  3 of 3 completed"
     ]
    },
    {
     "name": "stdout",
     "output_type": "stream",
     "text": [
      "Parametric VaR (95%): 2.6901% of portfolio = $2,690.13\n"
     ]
    },
    {
     "name": "stderr",
     "output_type": "stream",
     "text": [
      "\n"
     ]
    }
   ],
   "execution_count": 2
  },
  {
   "metadata": {
    "ExecuteTime": {
     "end_time": "2025-09-28T23:41:46.067921Z",
     "start_time": "2025-09-28T23:41:46.063223Z"
    }
   },
   "cell_type": "code",
   "source": [
    "q_hist = portfolio_returns.quantile(alpha)\n",
    "VaR_hist_percent = -q_hist\n",
    "VaR_hist_dollars = VaR_hist_percent * V\n",
    "print(f\"Historical VaR ({int((1-alpha)*100)}%): {VaR_hist_percent:.4%} => ${VaR_hist_dollars:,.2f}\")"
   ],
   "id": "aaffaffccf0baa5c",
   "outputs": [
    {
     "name": "stdout",
     "output_type": "stream",
     "text": [
      "Historical VaR (95%): 2.6137% => $2,613.72\n"
     ]
    }
   ],
   "execution_count": 3
  },
  {
   "metadata": {
    "ExecuteTime": {
     "end_time": "2025-09-28T23:41:46.102513Z",
     "start_time": "2025-09-28T23:41:46.087514Z"
    }
   },
   "cell_type": "code",
   "source": [
    "#monte carlo VaR\n",
    "#inputs\n",
    "n_sims = 20000\n",
    "n_days = 1 #horizons in days\n",
    "\n",
    "mean_vec = returns.mean().values\n",
    "cov_mat = returns.cov().values\n",
    "weights = np.array([1/3,1/3,1/3])\n",
    "\n",
    "#simulate\n",
    "sims = np.random.multivariate_normal(mean_vec, cov_mat, size=n_sims)\n",
    "sim_portfolio_returns = sims.dot(weights)\n",
    "\n",
    "#find empirical quantile\n",
    "q_mc = np.quantile(sim_portfolio_returns, alpha)\n",
    "VaR_mc_percent = -q_mc\n",
    "VaR_mc_dollars = VaR_mc_percent * V\n",
    "print(f\"Monte Carlo VaR ({int(confidence*100)}%): {VaR_mc_percent:.4%} => ${VaR_mc_dollars:,.2f}\")\n"
   ],
   "id": "53a8cf26b74ca886",
   "outputs": [
    {
     "name": "stdout",
     "output_type": "stream",
     "text": [
      "Monte Carlo VaR (95%): 2.7317% => $2,731.66\n"
     ]
    }
   ],
   "execution_count": 4
  },
  {
   "metadata": {
    "ExecuteTime": {
     "end_time": "2025-09-28T23:41:46.119886Z",
     "start_time": "2025-09-28T23:41:46.114489Z"
    }
   },
   "cell_type": "code",
   "source": [
    "#EWMA VaR\n",
    "lambda_ = 0.94\n",
    "#compute EWMA variance of portfolio returns\n",
    "squared = portfolio_returns**2\n",
    "ewma_var = squared.ewm(alpha=1-lambda_).mean() #gves time serios of variance\n",
    "current_sigma = np.sqrt(ewma_var.iloc[-1])\n",
    "\n",
    "#parametric VaR with EWMA sigma\n",
    "z = norm.ppf(alpha)\n",
    "q_ewma = mu + z * current_sigma\n",
    "VaR_ewma = -q_ewma * V\n",
    "print(\"EWMA VaR (1-day)\", VaR_ewma)\n"
   ],
   "id": "e6bb1f820890ad3b",
   "outputs": [
    {
     "name": "stdout",
     "output_type": "stream",
     "text": [
      "EWMA VaR (1-day) 1845.7699832671367\n"
     ]
    }
   ],
   "execution_count": 5
  },
  {
   "metadata": {
    "ExecuteTime": {
     "end_time": "2025-09-28T23:41:46.471813Z",
     "start_time": "2025-09-28T23:41:46.138847Z"
    }
   },
   "cell_type": "code",
   "source": [
    "from scipy.stats import binom\n",
    "window = 252\n",
    "VaR_rolling = []\n",
    "\n",
    "for i in range(window, len(portfolio_returns)):\n",
    "    window_returns = portfolio_returns.iloc[i-window:i]\n",
    "    q = window_returns.quantile(alpha)\n",
    "    VaR_rolling.append(-q)\n",
    "\n",
    "VaR_rolling = pd.Series(VaR_rolling, index=portfolio_returns.index[window:])\n",
    "\n",
    "#exceptions\n",
    "actual_losses = -portfolio_returns[window:]\n",
    "exceptions = actual_losses > VaR_rolling.values\n",
    "num_exceptions = exceptions.sum()\n",
    "T = len(VaR_rolling)\n",
    "expected = alpha * T\n",
    "\n",
    "print(f\"Exceptions: {num_exceptions}, Expected ~ {expected:.1f} out of {T} days\")\n",
    "\n",
    "p_value = 1 - binom.cdf(num_exceptions - 1, T, alpha)\n",
    "print(\"Binomial p-value for observed exceptions:\", p_value)"
   ],
   "id": "229008a7cefbbe17",
   "outputs": [
    {
     "name": "stdout",
     "output_type": "stream",
     "text": [
      "Exceptions: 72, Expected ~ 62.9 out of 1257 days\n",
      "Binomial p-value for observed exceptions: 0.13233810758583742\n"
     ]
    }
   ],
   "execution_count": 6
  },
  {
   "metadata": {
    "ExecuteTime": {
     "end_time": "2025-09-28T23:41:46.804844Z",
     "start_time": "2025-09-28T23:41:46.539141Z"
    }
   },
   "cell_type": "code",
   "source": [
    "\n",
    "plt.figure(figsize=(10,5))\n",
    "plt.hist(portfolio_returns, bins=60, density=True, alpha=0.6)\n",
    "# mark parametric VaR\n",
    "plt.axvline(x=q, color='r', linestyle='--', label=f'Param VaR (q={q:.2%})')\n",
    "# mark historical VaR\n",
    "plt.axvline(x=q_hist, color='orange', linestyle='--', label=f'Hist VaR (q={q_hist:.2%})')\n",
    "plt.title(\"Portfolio return distribution with VaR lines\")\n",
    "plt.legend()\n",
    "plt.show()"
   ],
   "id": "cc85582de80dfcbc",
   "outputs": [
    {
     "data": {
      "text/plain": [
       "<Figure size 1000x500 with 1 Axes>"
      ],
      "image/png": "[encoded data removed]"
     },
     "metadata": {},
     "output_type": "display_data"
    }
   ],
   "execution_count": 7
  }
 ],
 "metadata": {
  "kernelspec": {
   "display_name": "Python 3",
   "language": "python",
   "name": "python3"
  },
  "language_info": {
   "codemirror_mode": {
    "name": "ipython",
    "version": 2
   },
   "file_extension": ".py",
   "mimetype": "text/x-python",
   "name": "python",
   "nbconvert_exporter": "python",
   "pygments_lexer": "ipython2",
   "version": "2.7.6"
  }
 },
 "nbformat": 4,
 "nbformat_minor": 5
}
